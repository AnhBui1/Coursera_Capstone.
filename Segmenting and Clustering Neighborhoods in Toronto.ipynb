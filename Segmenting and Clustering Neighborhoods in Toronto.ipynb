{
  "cells": [
    {
      "cell_type": "code",
      "execution_count": null,
      "metadata": {
        "collapsed": true,
        "pycharm": {}
      },
      "outputs": [],
      "source": "Hello "
    },
    {
      "cell_type": "markdown",
      "source": "\u003ch3\u003eImporting necessary packages for notebook.\u003c/h3\u003e",
      "metadata": {
        "pycharm": {
          "metadata": false
        }
      }
    },
    {
      "cell_type": "code",
      "execution_count": null,
      "outputs": [],
      "source": "import pandas as pd\nimport numpy as np\nimport requests\nfrom bs4 import BeautifulSoup",
      "metadata": {
        "pycharm": {
          "metadata": false,
          "name": "#%%\n"
        }
      }
    },
    {
      "cell_type": "markdown",
      "source": "\u003ch3\u003eMake url call, get response, and parse the response contents using Beautiful Soup.\u003c/h3\u003e",
      "metadata": {
        "pycharm": {
          "metadata": false
        }
      }
    },
    {
      "cell_type": "code",
      "execution_count": null,
      "outputs": [],
      "source": "url \u003d \"https://en.wikipedia.org/wiki/List_of_postal_codes_of_Canada:_M\"\nresponse \u003d requests.get(url)\nresults_page \u003d BeautifulSoup(response.content, \"html.parser\")",
      "metadata": {
        "pycharm": {
          "metadata": false,
          "name": "#%%\n"
        }
      }
    },
    {
      "cell_type": "markdown",
      "source": "\u003ch3\u003eExtract the table head and table rows from the results.\u003c/h3\u003e",
      "metadata": {
        "pycharm": {
          "metadata": false
        }
      }
    },
    {
      "cell_type": "code",
      "execution_count": null,
      "outputs": [],
      "source": "table \u003d results_page.find(\"table\")\ntable_items \u003d table.find_all(\"tr\")\ntable_head \u003d table_items[0].find_all(\"th\")\ntable_rows \u003d table_items[1:]",
      "metadata": {
        "pycharm": {
          "metadata": false,
          "name": "#%%\n"
        }
      }
    },
    {
      "cell_type": "markdown",
      "source": "\u003ch3\u003eCreate the dataframe with it being initialized as empty with requisite column names coming from table head.\u003c/h3\u003e",
      "metadata": {
        "pycharm": {
          "metadata": false
        }
      }
    },
    {
      "cell_type": "code",
      "execution_count": null,
      "outputs": [],
      "source": "column_names \u003d [\"PostalCode\", \"Borough\", \"Neighborhood\"]\ntoronto_neighborhoods \u003d pd.DataFrame(columns \u003d column_names)",
      "metadata": {
        "pycharm": {
          "metadata": false,
          "name": "#%%\n"
        }
      }
    },
    {
      "cell_type": "markdown",
      "source": "\u003ch3\u003eLoop over the rows in table rows and append the applicable data in the dataframe. Ignore data where Borough is not assigned and assign Neighborhood to Borough if Borough is assigned while Neighborhood is not. If more than one neighborhood is assigned to the same postal code include all neighborhoods in same neighborhood column of dataframe for applicable postal code.\u003c/h3\u003e",
      "metadata": {
        "pycharm": {
          "metadata": false
        }
      }
    },
    {
      "cell_type": "code",
      "execution_count": null,
      "outputs": [],
      "source": "for row in table_rows:\n    \n    row \u003d row.find_all(\"td\")\n    PostalCode \u003d row[0].get_text()\n    Borough \u003d row[1].get_text()\n    Neighborhood \u003d row[2].get_text().strip(\"\\n\")\n    \n    if Neighborhood \u003d\u003d \"Not assigned\" and Borough !\u003d \"Not assigned\":\n        Neighborhood \u003d Borough\n    \n    if Borough \u003d\u003d \"Not assigned\":\n        continue\n    else:\n        if PostalCode in toronto_neighborhoods[\"PostalCode\"].tolist():\n            index \u003d toronto_neighborhoods[\"PostalCode\"].tolist().index(PostalCode)\n            toronto_neighborhoods.loc[[index], [\"Neighborhood\"]] \u003d toronto_neighborhoods.loc[[index], [\"Neighborhood\"]] + \", \" + Neighborhood \n        else:\n            toronto_neighborhoods \u003d toronto_neighborhoods.append({\n                \"PostalCode\": PostalCode,\n                \"Borough\": Borough,\n                \"Neighborhood\": Neighborhood\n            }, ignore_index \u003d True)",
      "metadata": {
        "pycharm": {
          "metadata": false,
          "name": "#%%\n"
        }
      }
    },
    {
      "cell_type": "markdown",
      "source": "\u003ch3\u003eSee the dataframe and its contents.\u003c/h3\u003e",
      "metadata": {
        "pycharm": {
          "metadata": false
        }
      }
    },
    {
      "cell_type": "code",
      "execution_count": null,
      "outputs": [],
      "source": "toronto_neighborhoods",
      "metadata": {
        "pycharm": {
          "metadata": false,
          "name": "#%%\n"
        }
      }
    },
    {
      "cell_type": "markdown",
      "source": "\u003ch3\u003eSee what shape the datafame is.\u003c/h3\u003e",
      "metadata": {
        "pycharm": {
          "metadata": false
        }
      }
    },
    {
      "cell_type": "code",
      "execution_count": null,
      "outputs": [],
      "source": "toronto_neighborhoods.shape",
      "metadata": {
        "pycharm": {
          "metadata": false,
          "name": "#%%\n"
        }
      }
    }
  ],
  "metadata": {
    "language_info": {
      "codemirror_mode": {
        "name": "ipython",
        "version": 2
      },
      "file_extension": ".py",
      "mimetype": "text/x-python",
      "name": "python",
      "nbconvert_exporter": "python",
      "pygments_lexer": "ipython2",
      "version": "2.7.6"
    },
    "kernelspec": {
      "name": "pycharm-8ee5cd2a",
      "language": "python",
      "display_name": "PyCharm (untitled3)"
    }
  },
  "nbformat": 4,
  "nbformat_minor": 0
}